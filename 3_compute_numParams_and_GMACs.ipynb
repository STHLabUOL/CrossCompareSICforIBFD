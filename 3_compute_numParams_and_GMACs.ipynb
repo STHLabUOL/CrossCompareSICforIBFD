{
 "cells": [
  {
   "cell_type": "code",
   "execution_count": null,
   "metadata": {},
   "outputs": [],
   "source": [
    "import sys\n",
    "sys.path.append('./fdnn_balatsoukas') # for balatsoukas plot func\n",
    "\n",
    "\n",
    "import tensorflow as tf\n",
    "from tensorflow import keras\n",
    "import scipy.io as sio\n",
    "import numpy as np\n",
    "import matplotlib.pyplot as plt\n",
    "import matplotlib as mpl\n",
    "from tensorflow.python.ops import math_ops\n",
    "from models import NeuralNetGlobalHammer, NeuralNetGlobalWiener, NeuralNetGlobalHammerWiener, FFNN_model, cmplxMeanSquaredError\n",
    "from util import compute_GMACS\n",
    "from config import *\n",
    "\n",
    "import pickle\n",
    "import fullduplex as fd #balatsoukas"
   ]
  },
  {
   "cell_type": "code",
   "execution_count": null,
   "metadata": {},
   "outputs": [],
   "source": [
    "CHANNEL_LEN = 13\n",
    "model_order = ['FFNN', 'H', 'W', 'WH']\n",
    "models = [\n",
    "    FFNN_model(CHANNEL_LEN, nHidden=17),\n",
    "    NeuralNetGlobalHammer(filterLen=CHANNEL_LEN),\n",
    "    NeuralNetGlobalWiener(filterLen=CHANNEL_LEN),\n",
    "    NeuralNetGlobalHammerWiener(filterLen=CHANNEL_LEN)\n",
    "]\n",
    "tensorSpec_shapes = [(30244, 26), (1, 1, TOTAL_SIGNAL_LENGTH, 1), (1, 1, TOTAL_SIGNAL_LENGTH, 1), (1, 1, TOTAL_SIGNAL_LENGTH, 1)]\n",
    "tensorSpec_dtypes = [tf.float64, tf.complex128, tf.complex128, tf.complex128]\n",
    "\n",
    "print('Model \\t GMACs \\t\\t #Parameters')\n",
    "print('------------------------------------')\n",
    "for ii in range(len(model_order)):\n",
    "    model = models[ii]    \n",
    "    model.compile(loss=cmplxMeanSquaredError(),    \n",
    "              optimizer=keras.optimizers.Adam(learning_rate=0.003, amsgrad=False, beta_1=0.9) , # Einzelsignal 0.01,  Zehn Signale lr=0.001 bei batchsize=1\n",
    "              metrics=['MeanSquaredError'], run_eagerly=True)\n",
    "    \n",
    "    total_params = sum([np.prod(v.shape) for v in model.trainable_variables])\n",
    "    gmacs = compute_GMACS(model, tensorSpec_shapes[ii], tensorSpec_dtypes[ii])\n",
    "\n",
    "    print(model_order[ii], '\\t', '' f'{gmacs:.5f}', '\\t', total_params)"
   ]
  }
 ],
 "metadata": {
  "kernelspec": {
   "display_name": "enzner_env",
   "language": "python",
   "name": "python3"
  },
  "language_info": {
   "codemirror_mode": {
    "name": "ipython",
    "version": 3
   },
   "file_extension": ".py",
   "mimetype": "text/x-python",
   "name": "python",
   "nbconvert_exporter": "python",
   "pygments_lexer": "ipython3",
   "version": "3.7.10"
  }
 },
 "nbformat": 4,
 "nbformat_minor": 2
}
